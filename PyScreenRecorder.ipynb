{
 "cells": [
  {
   "cell_type": "markdown",
   "id": "356b35b9",
   "metadata": {},
   "source": [
    "!pip install pyautogui"
   ]
  },
  {
   "cell_type": "code",
   "execution_count": 1,
   "id": "43e2e178",
   "metadata": {},
   "outputs": [
    {
     "name": "stdout",
     "output_type": "stream",
     "text": [
      "F:\\Computer vision\\Images\\testing_record.mp4\n"
     ]
    }
   ],
   "source": [
    "import pyautogui as p\n",
    "import cv2 as c\n",
    "import numpy as np\n",
    "\n",
    "#Capture the best fitted resolution of the screen or monitor \n",
    "rs = p.size()\n",
    "\n",
    "#filename in which we store recording\n",
    "fn = input(\"\")\n",
    "\n",
    "\n",
    "#Fix the frame rate\n",
    "fps = 20.0\n",
    "\n",
    "\n",
    "fourcc = c.VideoWriter_fourcc(*'XVID') #selecting Codec\n",
    "output = c.VideoWriter(fn,fourcc,fps,rs)\n",
    "\n",
    "#create recording module\n",
    "c.namedWindow(\"LIve_Recording\",c.WINDOW_NORMAL)\n",
    "\n",
    "#Resize the window if needed\n",
    "#c.resizeWindow(\"Live\",(600,400))\n",
    "\n",
    "while True:\n",
    "    img = p.screenshot() #image\n",
    "    f = np.array(img) #convert image into array\n",
    "    f = c.cvtColor(f,c.COLOR_BGR2RGB) #BGR is the default colore formate ,but we want in RGB\n",
    "    output.write(f)\n",
    "    c.imshow(\"screenshot\", f)\n",
    "    if c.waitKey(1) == ord(\"q\"):\n",
    "        break\n",
    "\n",
    "c.destroyAllWindows()\n",
    "output.release()  "
   ]
  },
  {
   "cell_type": "code",
   "execution_count": null,
   "id": "0a943861",
   "metadata": {},
   "outputs": [],
   "source": []
  }
 ],
 "metadata": {
  "kernelspec": {
   "display_name": "Python 3 (ipykernel)",
   "language": "python",
   "name": "python3"
  },
  "language_info": {
   "codemirror_mode": {
    "name": "ipython",
    "version": 3
   },
   "file_extension": ".py",
   "mimetype": "text/x-python",
   "name": "python",
   "nbconvert_exporter": "python",
   "pygments_lexer": "ipython3",
   "version": "3.11.5"
  },
  "varInspector": {
   "cols": {
    "lenName": 16,
    "lenType": 16,
    "lenVar": 40
   },
   "kernels_config": {
    "python": {
     "delete_cmd_postfix": "",
     "delete_cmd_prefix": "del ",
     "library": "var_list.py",
     "varRefreshCmd": "print(var_dic_list())"
    },
    "r": {
     "delete_cmd_postfix": ") ",
     "delete_cmd_prefix": "rm(",
     "library": "var_list.r",
     "varRefreshCmd": "cat(var_dic_list()) "
    }
   },
   "types_to_exclude": [
    "module",
    "function",
    "builtin_function_or_method",
    "instance",
    "_Feature"
   ],
   "window_display": false
  }
 },
 "nbformat": 4,
 "nbformat_minor": 5
}
